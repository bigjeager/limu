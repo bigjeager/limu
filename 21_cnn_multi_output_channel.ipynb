{
 "cells": [
  {
   "cell_type": "code",
   "execution_count": 23,
   "metadata": {},
   "outputs": [
    {
     "name": "stdout",
     "output_type": "stream",
     "text": [
      "torch.Size([2, 3, 3]) torch.Size([2, 2, 2])\n",
      "tensor([[ 56.,  72.],\n",
      "        [104., 120.]])\n"
     ]
    }
   ],
   "source": [
    "import torch\n",
    "import torch.nn\n",
    "\n",
    "def corr2d(X, k):\n",
    "    n_w, n_h = X.shape\n",
    "    k_w, k_h = k.shape\n",
    "    ret_mat = torch.zeros((n_w - k_w + 1, n_h - k_h + 1))\n",
    "    for i in range(n_w - k_w + 1):\n",
    "        for j in range(n_h - k_h + 1):\n",
    "            ret_mat[i, j] = (X[i:i+k_w, j:j+k_h] * k).sum()\n",
    "    return ret_mat\n",
    "\n",
    "# multiple input channel, 1 output channel\n",
    "# input: (ci, a0, a1)\n",
    "# kernel: (ci, k0, k1)\n",
    "# output: (a0-k0+1, a1-k0+1)\n",
    "def corr2d_multi_in(X, K):\n",
    "    return sum([corr2d(x, k) for x,k in zip(X, K)])\n",
    "    \n",
    "X = torch.tensor([[[0.0, 1.0, 2.0], [3.0, 4.0, 5.0], [6.0, 7.0, 8.0]], \n",
    "                  [[1.0, 2.0, 3.0], [4.0, 5.0, 6.0], [7.0, 8.0, 9.0]]])\n",
    "K = torch.tensor([[[0.0, 1.0], [2.0, 3.0]], \n",
    "                  [[1.0, 2.0], [3.0, 4.0]]])\n",
    "\n",
    "print(X.shape, K.shape)\n",
    "print(corr2d_multi_in(X, K))"
   ]
  },
  {
   "cell_type": "code",
   "execution_count": 27,
   "metadata": {},
   "outputs": [
    {
     "name": "stdout",
     "output_type": "stream",
     "text": [
      "torch.Size([2, 3, 3]) torch.Size([3, 2, 2, 2])\n",
      "tensor([[[ 56.,  72.],\n",
      "         [104., 120.]],\n",
      "\n",
      "        [[ 76., 100.],\n",
      "         [148., 172.]],\n",
      "\n",
      "        [[ 96., 128.],\n",
      "         [192., 224.]]])\n"
     ]
    }
   ],
   "source": [
    "# multiple input channel(ci), multiple output channel(co)\n",
    "# input: (ci, a0, a1)\n",
    "# kernel: (co, ci, k0, k1)\n",
    "# output: (co, a0-k0+1, a1-k0+1)\n",
    "def corr2d_multi_in_multi_out(X, K):\n",
    "    return torch.stack([corr2d_multi_in(X, k) for k in K], 0)\n",
    "\n",
    "K_m = torch.stack((K, K+1, K+2), 0)\n",
    "print(X.shape, K_m.shape)\n",
    "print(corr2d_multi_in_multi_out(X, K_m))"
   ]
  },
  {
   "cell_type": "code",
   "execution_count": 34,
   "metadata": {},
   "outputs": [
    {
     "name": "stdout",
     "output_type": "stream",
     "text": [
      "torch.Size([3, 3, 3]) torch.Size([2, 3, 1, 1])\n",
      "tensor([[[27., 30., 33.],\n",
      "         [36., 39., 42.],\n",
      "         [45., 48., 51.]],\n",
      "\n",
      "        [[27., 30., 33.],\n",
      "         [36., 39., 42.],\n",
      "         [45., 48., 51.]]])\n",
      "tensor([[[27., 30., 33.],\n",
      "         [36., 39., 42.],\n",
      "         [45., 48., 51.]],\n",
      "\n",
      "        [[27., 30., 33.],\n",
      "         [36., 39., 42.],\n",
      "         [45., 48., 51.]]])\n"
     ]
    }
   ],
   "source": [
    "# special case of corr2d_multi_in_multi_out: when kernel_size = (1), equals fully connect layers\n",
    "# input: (ci, a0, a1)\n",
    "# kernel: (co, ci, k0, k1) = (co, ci, 1, 1)\n",
    "# output: (co, a0-k0+1, a1-k1+1) = (co, a0-1+1, a1-1+1) = (co, a0, a1)\n",
    "def corr2d_multi_in_multi_out_1x1(X, K):\n",
    "    ci, a0, a1 = X.shape\n",
    "    co = K.shape[0]\n",
    "    X = X.reshape(( ci, -1 ))\n",
    "    K = K.reshape(( co, -1 ))\n",
    "    return torch.matmul(K, X).reshape((co, a0, a1))\n",
    "\n",
    "X = torch.arange(27, dtype=torch.float32).reshape(3,3,3)\n",
    "Y = torch.ones(6, dtype=torch.float32).reshape(2,3,1,1)\n",
    "\n",
    "print(X.shape, Y.shape)\n",
    "print(corr2d_multi_in_multi_out_1x1(X, Y))\n",
    "print(corr2d_multi_in_multi_out(X, Y))"
   ]
  }
 ],
 "metadata": {
  "kernelspec": {
   "display_name": "base",
   "language": "python",
   "name": "python3"
  },
  "language_info": {
   "codemirror_mode": {
    "name": "ipython",
    "version": 3
   },
   "file_extension": ".py",
   "mimetype": "text/x-python",
   "name": "python",
   "nbconvert_exporter": "python",
   "pygments_lexer": "ipython3",
   "version": "3.8.5"
  },
  "orig_nbformat": 4
 },
 "nbformat": 4,
 "nbformat_minor": 2
}
