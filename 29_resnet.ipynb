{
 "cells": [
  {
   "cell_type": "code",
   "execution_count": 11,
   "metadata": {},
   "outputs": [],
   "source": [
    "import torch\n",
    "import torch.nn as nn\n",
    "from torch.nn import functional as F\n",
    "\n",
    "class ResidualBlock(nn.Module):\n",
    "    def __init__(self, in_chan, out_chan, stride=1):\n",
    "        super().__init__()\n",
    "        self.conv1 = nn.Conv2d(in_chan, out_chan, kernel_size=3, padding=1, stride=stride)\n",
    "        # conv2    input_shape = output_shape\n",
    "        self.conv2 = nn.Conv2d(out_chan, out_chan, kernel_size=3, padding=1, stride=1)\n",
    "        # res_conv (kernel=1, padding=0, stride=input_stride): x - 1 + 2*0 + stride = x - 1 + stride\n",
    "        # conv1    (kernel=3, padding=1, stride=input_stride): x - 3 + 2*1 + stride = x - 1 + stride\n",
    "        self.res_conv = nn.Conv2d(in_chan, out_chan, kernel_size=1, stride=stride)\n",
    "\n",
    "        self.bn1 = nn.BatchNorm2d(out_chan)\n",
    "        self.bn2 = nn.BatchNorm2d(out_chan)\n",
    "        self.in_chan = in_chan\n",
    "        self.out_chan = out_chan\n",
    "        self.stride = stride\n",
    "\n",
    "    def forward(self, x):\n",
    "        # conv_bn_relu\n",
    "        y = F.relu(self.bn1(self.conv1(x)))\n",
    "        # conv_bn_res_relu\n",
    "        # residual connect:\n",
    "        # case 1: if in_chan != out_chan or stride != 1, use 1*1 conv\n",
    "        # case 2: else, use x itself\n",
    "        y = F.relu(self.bn2(self.conv2(y)) \n",
    "                   + self.res_conv(x) if self.in_chan != self.out_chan or self.stride != 1 else x)\n",
    "        return y\n",
    "\n",
    "def residual_module(in_chan, out_chan, num_layers, first_block=False):\n",
    "    layers = []\n",
    "    for i in range(num_layers):\n",
    "        if i == 0 and not first_block:\n",
    "            layers.append( ResidualBlock(in_chan, out_chan, 2) )\n",
    "        else:\n",
    "            layers.append( ResidualBlock(in_chan, out_chan) )\n",
    "        in_chan = out_chan\n",
    "    return layers\n",
    "\n",
    "\n",
    "stage1 = nn.Sequential(nn.Conv2d(1, 64, kernel_size=7, stride=2, padding=3), nn.BatchNorm2d(64), nn.ReLU(),\n",
    "                       nn.MaxPool2d(kernel_size=3, stride=2, padding=1))\n",
    "stage2 = nn.Sequential(*residual_module(64, 64, 2, True))\n",
    "stage3 = nn.Sequential(*residual_module(64, 128, 2))\n",
    "stage4 = nn.Sequential(*residual_module(128, 256, 2))\n",
    "stage5 = nn.Sequential(*residual_module(256, 512, 2))\n",
    "stage6 = nn.Sequential(nn.AdaptiveAvgPool2d((1, 1)), nn.Flatten(), nn.Linear(512, 10))\n",
    "\n",
    "resnet = nn.Sequential(stage1, stage2, stage3, stage4, stage5, stage6)\n",
    "\n",
    "#print('resnet: ')\n",
    "#x = torch.randn((3,1,224,224))\n",
    "#for layer in resnet:\n",
    "#    x = layer(x)\n",
    "#    print('%-10s: %-30s'%(layer.__class__.__name__, x.shape))"
   ]
  },
  {
   "cell_type": "code",
   "execution_count": 12,
   "metadata": {},
   "outputs": [
    {
     "data": {
      "text/plain": [
       "0.1"
      ]
     },
     "execution_count": 12,
     "metadata": {},
     "output_type": "execute_result"
    }
   ],
   "source": [
    "import torchvision\n",
    "import torch\n",
    "optimizer = torch.optim.SGD(resnet.parameters(), lr=0.1, momentum=0.9, weight_decay=1e-3)\n",
    "\n",
    "optimizer.state_dict()['param_groups'][0]['lr']\n",
    "\n",
    "\n"
   ]
  },
  {
   "cell_type": "code",
   "execution_count": 13,
   "metadata": {},
   "outputs": [
    {
     "ename": "AttributeError",
     "evalue": "'FastAPI' object has no attribute 'debug'",
     "output_type": "error",
     "traceback": [
      "\u001b[0;31m---------------------------------------------------------------------------\u001b[0m",
      "\u001b[0;31mAttributeError\u001b[0m                            Traceback (most recent call last)",
      "Cell \u001b[0;32mIn[13], line 5\u001b[0m\n\u001b[1;32m      3\u001b[0m \u001b[39mfrom\u001b[39;00m \u001b[39mtorchvision\u001b[39;00m\u001b[39m.\u001b[39;00m\u001b[39mdatasets\u001b[39;00m \u001b[39mimport\u001b[39;00m FashionMNIST\n\u001b[1;32m      4\u001b[0m \u001b[39mfrom\u001b[39;00m \u001b[39mtorchvision\u001b[39;00m\u001b[39m.\u001b[39;00m\u001b[39mtransforms\u001b[39;00m \u001b[39mimport\u001b[39;00m ToTensor\n\u001b[0;32m----> 5\u001b[0m \u001b[39mimport\u001b[39;00m \u001b[39mlightning\u001b[39;00m\u001b[39m.\u001b[39;00m\u001b[39mpytorch\u001b[39;00m \u001b[39mas\u001b[39;00m \u001b[39mpl\u001b[39;00m\n\u001b[1;32m      6\u001b[0m \u001b[39mfrom\u001b[39;00m \u001b[39mlightning\u001b[39;00m\u001b[39m.\u001b[39;00m\u001b[39mpytorch\u001b[39;00m\u001b[39m.\u001b[39;00m\u001b[39mloggers\u001b[39;00m \u001b[39mimport\u001b[39;00m TensorBoardLogger\n\u001b[1;32m      8\u001b[0m \u001b[39mclass\u001b[39;00m \u001b[39mMLP\u001b[39;00m(pl\u001b[39m.\u001b[39mLightningModule):\n",
      "File \u001b[0;32m~/anaconda3/lib/python3.8/site-packages/lightning/__init__.py:18\u001b[0m\n\u001b[1;32m     16\u001b[0m \u001b[39mfrom\u001b[39;00m \u001b[39mlightning\u001b[39;00m\u001b[39m.\u001b[39;00m\u001b[39m__about__\u001b[39;00m \u001b[39mimport\u001b[39;00m \u001b[39m*\u001b[39m  \u001b[39m# noqa: E402, F401, F403\u001b[39;00m\n\u001b[1;32m     17\u001b[0m \u001b[39mfrom\u001b[39;00m \u001b[39mlightning\u001b[39;00m\u001b[39m.\u001b[39;00m\u001b[39m__version__\u001b[39;00m \u001b[39mimport\u001b[39;00m version \u001b[39mas\u001b[39;00m __version__  \u001b[39m# noqa: E402, F401\u001b[39;00m\n\u001b[0;32m---> 18\u001b[0m \u001b[39mfrom\u001b[39;00m \u001b[39mlightning\u001b[39;00m\u001b[39m.\u001b[39;00m\u001b[39mapp\u001b[39;00m \u001b[39mimport\u001b[39;00m storage  \u001b[39m# noqa: E402\u001b[39;00m\n\u001b[1;32m     19\u001b[0m \u001b[39mfrom\u001b[39;00m \u001b[39mlightning\u001b[39;00m\u001b[39m.\u001b[39;00m\u001b[39mapp\u001b[39;00m\u001b[39m.\u001b[39;00m\u001b[39mcore\u001b[39;00m\u001b[39m.\u001b[39;00m\u001b[39mapp\u001b[39;00m \u001b[39mimport\u001b[39;00m LightningApp  \u001b[39m# noqa: E402\u001b[39;00m\n\u001b[1;32m     20\u001b[0m \u001b[39mfrom\u001b[39;00m \u001b[39mlightning\u001b[39;00m\u001b[39m.\u001b[39;00m\u001b[39mapp\u001b[39;00m\u001b[39m.\u001b[39;00m\u001b[39mcore\u001b[39;00m\u001b[39m.\u001b[39;00m\u001b[39mflow\u001b[39;00m \u001b[39mimport\u001b[39;00m LightningFlow  \u001b[39m# noqa: E402\u001b[39;00m\n",
      "File \u001b[0;32m~/anaconda3/lib/python3.8/site-packages/lightning/app/__init__.py:24\u001b[0m\n\u001b[1;32m     20\u001b[0m     _logger\u001b[39m.\u001b[39maddHandler(_console)\n\u001b[1;32m     21\u001b[0m     _logger\u001b[39m.\u001b[39mpropagate \u001b[39m=\u001b[39m \u001b[39mFalse\u001b[39;00m\n\u001b[0;32m---> 24\u001b[0m \u001b[39mfrom\u001b[39;00m \u001b[39mlightning\u001b[39;00m\u001b[39m.\u001b[39;00m\u001b[39mapp\u001b[39;00m \u001b[39mimport\u001b[39;00m components  \u001b[39m# noqa: E402, F401\u001b[39;00m\n\u001b[1;32m     26\u001b[0m \u001b[39mif\u001b[39;00m os\u001b[39m.\u001b[39mpath\u001b[39m.\u001b[39misfile(os\u001b[39m.\u001b[39mpath\u001b[39m.\u001b[39mjoin(os\u001b[39m.\u001b[39mpath\u001b[39m.\u001b[39mdirname(\u001b[39m__file__\u001b[39m), \u001b[39m\"\u001b[39m\u001b[39m__about__.py\u001b[39m\u001b[39m\"\u001b[39m)):\n\u001b[1;32m     27\u001b[0m     \u001b[39mfrom\u001b[39;00m \u001b[39mlightning\u001b[39;00m\u001b[39m.\u001b[39;00m\u001b[39mapp\u001b[39;00m\u001b[39m.\u001b[39;00m\u001b[39m__about__\u001b[39;00m \u001b[39mimport\u001b[39;00m \u001b[39m*\u001b[39m  \u001b[39m# noqa: F401, F403\u001b[39;00m\n",
      "File \u001b[0;32m~/anaconda3/lib/python3.8/site-packages/lightning/app/components/__init__.py:15\u001b[0m\n\u001b[1;32m     13\u001b[0m \u001b[39mfrom\u001b[39;00m \u001b[39mlightning\u001b[39;00m\u001b[39m.\u001b[39;00m\u001b[39mapp\u001b[39;00m\u001b[39m.\u001b[39;00m\u001b[39mcomponents\u001b[39;00m\u001b[39m.\u001b[39;00m\u001b[39mserve\u001b[39;00m\u001b[39m.\u001b[39;00m\u001b[39mgradio_server\u001b[39;00m \u001b[39mimport\u001b[39;00m ServeGradio\n\u001b[1;32m     14\u001b[0m \u001b[39mfrom\u001b[39;00m \u001b[39mlightning\u001b[39;00m\u001b[39m.\u001b[39;00m\u001b[39mapp\u001b[39;00m\u001b[39m.\u001b[39;00m\u001b[39mcomponents\u001b[39;00m\u001b[39m.\u001b[39;00m\u001b[39mserve\u001b[39;00m\u001b[39m.\u001b[39;00m\u001b[39mpython_server\u001b[39;00m \u001b[39mimport\u001b[39;00m Category, Image, Number, PythonServer, Text\n\u001b[0;32m---> 15\u001b[0m \u001b[39mfrom\u001b[39;00m \u001b[39mlightning\u001b[39;00m\u001b[39m.\u001b[39;00m\u001b[39mapp\u001b[39;00m\u001b[39m.\u001b[39;00m\u001b[39mcomponents\u001b[39;00m\u001b[39m.\u001b[39;00m\u001b[39mserve\u001b[39;00m\u001b[39m.\u001b[39;00m\u001b[39mserve\u001b[39;00m \u001b[39mimport\u001b[39;00m ModelInferenceAPI\n\u001b[1;32m     16\u001b[0m \u001b[39mfrom\u001b[39;00m \u001b[39mlightning\u001b[39;00m\u001b[39m.\u001b[39;00m\u001b[39mapp\u001b[39;00m\u001b[39m.\u001b[39;00m\u001b[39mcomponents\u001b[39;00m\u001b[39m.\u001b[39;00m\u001b[39mserve\u001b[39;00m\u001b[39m.\u001b[39;00m\u001b[39mstreamlit\u001b[39;00m \u001b[39mimport\u001b[39;00m ServeStreamlit\n\u001b[1;32m     17\u001b[0m \u001b[39mfrom\u001b[39;00m \u001b[39mlightning\u001b[39;00m\u001b[39m.\u001b[39;00m\u001b[39mapp\u001b[39;00m\u001b[39m.\u001b[39;00m\u001b[39mcomponents\u001b[39;00m\u001b[39m.\u001b[39;00m\u001b[39mtraining\u001b[39;00m \u001b[39mimport\u001b[39;00m LightningTrainerScript, PyTorchLightningScriptRunner\n",
      "File \u001b[0;32m~/anaconda3/lib/python3.8/site-packages/lightning/app/components/serve/serve.py:35\u001b[0m\n\u001b[1;32m     30\u001b[0m \u001b[39mfrom\u001b[39;00m \u001b[39mlightning\u001b[39;00m\u001b[39m.\u001b[39;00m\u001b[39mapp\u001b[39;00m\u001b[39m.\u001b[39;00m\u001b[39mutilities\u001b[39;00m\u001b[39m.\u001b[39;00m\u001b[39mapp_helpers\u001b[39;00m \u001b[39mimport\u001b[39;00m Logger\n\u001b[1;32m     32\u001b[0m logger \u001b[39m=\u001b[39m Logger(\u001b[39m__name__\u001b[39m)\n\u001b[0;32m---> 35\u001b[0m fastapi_service \u001b[39m=\u001b[39m FastAPI()\n\u001b[1;32m     38\u001b[0m \u001b[39mclass\u001b[39;00m \u001b[39m_InferenceCallable\u001b[39;00m:\n\u001b[1;32m     39\u001b[0m     \u001b[39mdef\u001b[39;00m \u001b[39m__init__\u001b[39m(\n\u001b[1;32m     40\u001b[0m         \u001b[39mself\u001b[39m,\n\u001b[1;32m     41\u001b[0m         deserialize: Callable,\n\u001b[1;32m     42\u001b[0m         predict: Callable,\n\u001b[1;32m     43\u001b[0m         serialize: Callable,\n\u001b[1;32m     44\u001b[0m     ):\n",
      "File \u001b[0;32m~/anaconda3/lib/python3.8/site-packages/fastapi/applications.py:146\u001b[0m, in \u001b[0;36mFastAPI.__init__\u001b[0;34m(self, debug, routes, title, description, version, openapi_url, openapi_tags, servers, dependencies, default_response_class, docs_url, redoc_url, swagger_ui_oauth2_redirect_url, swagger_ui_init_oauth, middleware, exception_handlers, on_startup, on_shutdown, terms_of_service, contact, license_info, openapi_prefix, root_path, root_path_in_servers, responses, callbacks, deprecated, include_in_schema, swagger_ui_parameters, generate_unique_id_function, **extra)\u001b[0m\n\u001b[1;32m    139\u001b[0m \u001b[39mself\u001b[39m\u001b[39m.\u001b[39mexception_handlers\u001b[39m.\u001b[39msetdefault(\n\u001b[1;32m    140\u001b[0m     RequestValidationError, request_validation_exception_handler\n\u001b[1;32m    141\u001b[0m )\n\u001b[1;32m    143\u001b[0m \u001b[39mself\u001b[39m\u001b[39m.\u001b[39muser_middleware: List[Middleware] \u001b[39m=\u001b[39m (\n\u001b[1;32m    144\u001b[0m     [] \u001b[39mif\u001b[39;00m middleware \u001b[39mis\u001b[39;00m \u001b[39mNone\u001b[39;00m \u001b[39melse\u001b[39;00m \u001b[39mlist\u001b[39m(middleware)\n\u001b[1;32m    145\u001b[0m )\n\u001b[0;32m--> 146\u001b[0m \u001b[39mself\u001b[39m\u001b[39m.\u001b[39mmiddleware_stack: ASGIApp \u001b[39m=\u001b[39m \u001b[39mself\u001b[39;49m\u001b[39m.\u001b[39;49mbuild_middleware_stack()\n\u001b[1;32m    147\u001b[0m \u001b[39mself\u001b[39m\u001b[39m.\u001b[39msetup()\n",
      "File \u001b[0;32m~/anaconda3/lib/python3.8/site-packages/fastapi/applications.py:152\u001b[0m, in \u001b[0;36mFastAPI.build_middleware_stack\u001b[0;34m(self)\u001b[0m\n\u001b[1;32m    149\u001b[0m \u001b[39mdef\u001b[39;00m \u001b[39mbuild_middleware_stack\u001b[39m(\u001b[39mself\u001b[39m) \u001b[39m-\u001b[39m\u001b[39m>\u001b[39m ASGIApp:\n\u001b[1;32m    150\u001b[0m     \u001b[39m# Duplicate/override from Starlette to add AsyncExitStackMiddleware\u001b[39;00m\n\u001b[1;32m    151\u001b[0m     \u001b[39m# inside of ExceptionMiddleware, inside of custom user middlewares\u001b[39;00m\n\u001b[0;32m--> 152\u001b[0m     debug \u001b[39m=\u001b[39m \u001b[39mself\u001b[39;49m\u001b[39m.\u001b[39;49mdebug\n\u001b[1;32m    153\u001b[0m     error_handler \u001b[39m=\u001b[39m \u001b[39mNone\u001b[39;00m\n\u001b[1;32m    154\u001b[0m     exception_handlers \u001b[39m=\u001b[39m {}\n",
      "\u001b[0;31mAttributeError\u001b[0m: 'FastAPI' object has no attribute 'debug'"
     ]
    }
   ],
   "source": [
    "import pandas as pd\n",
    "from tqdm.notebook import tqdm\n",
    "import time\n",
    "\n",
    "tqdm.pandas('test')\n",
    "_ = df.progress_apply(lambda _: time.sleep(0.2), axis=2)\n"
   ]
  }
 ],
 "metadata": {
  "kernelspec": {
   "display_name": "base",
   "language": "python",
   "name": "python3"
  },
  "language_info": {
   "codemirror_mode": {
    "name": "ipython",
    "version": 3
   },
   "file_extension": ".py",
   "mimetype": "text/x-python",
   "name": "python",
   "nbconvert_exporter": "python",
   "pygments_lexer": "ipython3",
   "version": "3.8.5"
  },
  "orig_nbformat": 4
 },
 "nbformat": 4,
 "nbformat_minor": 2
}
