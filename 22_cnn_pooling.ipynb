{
 "cells": [
  {
   "cell_type": "code",
   "execution_count": 37,
   "metadata": {},
   "outputs": [
    {
     "name": "stdout",
     "output_type": "stream",
     "text": [
      "tensor([[[[True, True, True],\n",
      "          [True, True, True],\n",
      "          [True, True, True]],\n",
      "\n",
      "         [[True, True, True],\n",
      "          [True, True, True],\n",
      "          [True, True, True]],\n",
      "\n",
      "         [[True, True, True],\n",
      "          [True, True, True],\n",
      "          [True, True, True]]]])\n"
     ]
    }
   ],
   "source": [
    "import torch\n",
    "import torch.nn as nn\n",
    "\n",
    "def process(x, pool_size, mode):\n",
    "    h, w = x.shape[-2], X.shape[-1]\n",
    "    p0, p1 = pool_size\n",
    "    h_o, w_o = h - p0 + 1, w - p1 + 1\n",
    "    y = torch.zeros((h_o, w_o))\n",
    "    for i in range(h_o):\n",
    "        for j in range(w_o):\n",
    "            if mode == 'max':\n",
    "                y[i, j] = x[i: i+p0, j: j+p1].max()\n",
    "            elif mode == 'min':\n",
    "                y[i, j] = x[i: i+p0, j: j+p1].min()\n",
    "            else:\n",
    "                y[i, j] = x[i: i+p0, j: j+p1].mean()\n",
    "    return y\n",
    "\n",
    "def pool_2d(X, pool_size, mode='max'):\n",
    "    assert(mode == 'max' or mode == 'min' or mode == 'mean')\n",
    "    assert(X.dim() == 4)\n",
    "    n_batch, n_chan, n_h, n_w = X.shape\n",
    "    p0, p1 = pool_size\n",
    "    h_o, w_o = n_h - p0 + 1, n_w - p1 + 1\n",
    "    X = X.reshape((-1, n_h, n_w))\n",
    "    Y = torch.stack([process(x, pool_size, mode) for x in X], 0)\n",
    "    return Y.reshape(n_batch, n_chan, h_o, w_o)\n",
    "\n",
    "X = torch.arange(75, dtype=torch.float32).reshape(1, 3, 5, 5)\n",
    "pool = nn.MaxPool2d(3, stride=1, padding=0)\n",
    "\n",
    "print(pool(X) == pool_2d(X, (3,3), mode='max'))\n",
    "\n",
    "#X = torch.arange(9).reshape(3, 3)\n",
    "#print(X)\n",
    "#x,y = X.max(dim=0)\n",
    "\n",
    "                "
   ]
  },
  {
   "cell_type": "code",
   "execution_count": 51,
   "metadata": {},
   "outputs": [
    {
     "name": "stdout",
     "output_type": "stream",
     "text": [
      "tensor([[[ 0.6757,  0.0218, -0.5498,  0.8284],\n",
      "         [-0.5993, -1.4082,  1.7136, -0.1557],\n",
      "         [ 0.9654,  0.2352,  1.2410, -0.2092]],\n",
      "\n",
      "        [[ 0.9575, -0.3247,  0.6956, -0.3899],\n",
      "         [-0.7129,  0.7919,  0.5173, -0.7772],\n",
      "         [ 1.2880,  0.1870,  0.1663, -0.9995]]])\n",
      "tensor([[[-1.6710, -0.5614, -0.7989, -0.0652],\n",
      "         [ 0.9862, -0.9058,  1.4343, -0.0328],\n",
      "         [ 0.3933,  0.7228, -0.4489,  0.0322]],\n",
      "\n",
      "        [[ 0.0487,  0.7793,  1.3150,  0.2885],\n",
      "         [ 1.2087,  0.9152, -0.0345, -1.4473],\n",
      "         [-0.0117,  0.2162, -0.2963, -1.5880]]])\n"
     ]
    },
    {
     "data": {
      "text/plain": [
       "tensor([[[[ 0.6757,  0.0218, -0.5498,  0.8284],\n",
       "          [-1.6710, -0.5614, -0.7989, -0.0652]],\n",
       "\n",
       "         [[-0.5993, -1.4082,  1.7136, -0.1557],\n",
       "          [ 0.9862, -0.9058,  1.4343, -0.0328]],\n",
       "\n",
       "         [[ 0.9654,  0.2352,  1.2410, -0.2092],\n",
       "          [ 0.3933,  0.7228, -0.4489,  0.0322]]],\n",
       "\n",
       "\n",
       "        [[[ 0.9575, -0.3247,  0.6956, -0.3899],\n",
       "          [ 0.0487,  0.7793,  1.3150,  0.2885]],\n",
       "\n",
       "         [[-0.7129,  0.7919,  0.5173, -0.7772],\n",
       "          [ 1.2087,  0.9152, -0.0345, -1.4473]],\n",
       "\n",
       "         [[ 1.2880,  0.1870,  0.1663, -0.9995],\n",
       "          [-0.0117,  0.2162, -0.2963, -1.5880]]]])"
      ]
     },
     "execution_count": 51,
     "metadata": {},
     "output_type": "execute_result"
    }
   ],
   "source": [
    "a=torch.randn(2,3,4)\n",
    "b=torch.randn(2,3,4)\n",
    "print(a)  # 2, 3, 4\n",
    "print(b) # 2, 3, 4\n",
    "\n",
    "f=torch.stack([a, b], dim=2)  # 2, 3, 2, 4\n",
    "f"
   ]
  }
 ],
 "metadata": {
  "kernelspec": {
   "display_name": "base",
   "language": "python",
   "name": "python3"
  },
  "language_info": {
   "codemirror_mode": {
    "name": "ipython",
    "version": 3
   },
   "file_extension": ".py",
   "mimetype": "text/x-python",
   "name": "python",
   "nbconvert_exporter": "python",
   "pygments_lexer": "ipython3",
   "version": "3.8.5"
  },
  "orig_nbformat": 4
 },
 "nbformat": 4,
 "nbformat_minor": 2
}
