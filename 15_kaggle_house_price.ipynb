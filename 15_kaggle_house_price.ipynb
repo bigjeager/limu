{
 "cells": [
  {
   "cell_type": "code",
   "execution_count": 1,
   "metadata": {},
   "outputs": [],
   "source": [
    "import hashlib\n",
    "import os\n",
    "import tarfile\n",
    "import zipfile\n",
    "import requests\n",
    "\n",
    "#@save\n",
    "DATA_HUB = dict()\n",
    "DATA_URL = 'http://d2l-data.s3-accelerate.amazonaws.com/'\n",
    "def download(name, cache_dir=os.path.join('..', 'data')):  #@save\n",
    "    \"\"\"下载一个DATA_HUB中的文件，返回本地文件名\"\"\"\n",
    "    assert name in DATA_HUB, f\"{name} 不存在于 {DATA_HUB}\"\n",
    "    url, sha1_hash = DATA_HUB[name]\n",
    "    os.makedirs(cache_dir, exist_ok=True)\n",
    "    fname = os.path.join(cache_dir, url.split('/')[-1])\n",
    "    if os.path.exists(fname):\n",
    "        sha1 = hashlib.sha1()\n",
    "        with open(fname, 'rb') as f:\n",
    "            while True:\n",
    "                data = f.read(1048576)\n",
    "                if not data:\n",
    "                    break\n",
    "                sha1.update(data)\n",
    "        if sha1.hexdigest() == sha1_hash:\n",
    "            return fname  # 命中缓存\n",
    "    print(f'正在从{url}下载{fname}...')\n",
    "    r = requests.get(url, stream=True, verify=True)\n",
    "    with open(fname, 'wb') as f:\n",
    "        f.write(r.content)\n",
    "    return fname\n",
    "def download_extract(name, folder=None):  #@save\n",
    "    \"\"\"下载并解压zip/tar文件\"\"\"\n",
    "    fname = download(name)\n",
    "    base_dir = os.path.dirname(fname)\n",
    "    data_dir, ext = os.path.splitext(fname)\n",
    "    if ext == '.zip':\n",
    "        fp = zipfile.ZipFile(fname, 'r')\n",
    "    elif ext in ('.tar', '.gz'):\n",
    "        fp = tarfile.open(fname, 'r')\n",
    "    else:\n",
    "        assert False, '只有zip/tar文件可以被解压缩'\n",
    "    fp.extractall(base_dir)\n",
    "    return os.path.join(base_dir, folder) if folder else data_dir\n",
    "\n",
    "def download_all():  #@save\n",
    "    \"\"\"下载DATA_HUB中的所有文件\"\"\"\n",
    "    for name in DATA_HUB:\n",
    "        download(name)"
   ]
  },
  {
   "cell_type": "code",
   "execution_count": 2,
   "metadata": {},
   "outputs": [
    {
     "name": "stdout",
     "output_type": "stream",
     "text": [
      "正在从http://d2l-data.s3-accelerate.amazonaws.com/kaggle_house_pred_train.csv下载../data/kaggle_house_pred_train.csv...\n",
      "正在从http://d2l-data.s3-accelerate.amazonaws.com/kaggle_house_pred_test.csv下载../data/kaggle_house_pred_test.csv...\n"
     ]
    }
   ],
   "source": [
    "import numpy as np\n",
    "import pandas as pd\n",
    "import torch\n",
    "from torch import nn\n",
    "from d2l import torch as d2l\n",
    "DATA_HUB['kaggle_house_train'] = (  #@save\n",
    "    DATA_URL + 'kaggle_house_pred_train.csv',\n",
    "    '585e9cc93e70b39160e7921475f9bcd7d31219ce')\n",
    "\n",
    "DATA_HUB['kaggle_house_test'] = (  #@save\n",
    "    DATA_URL + 'kaggle_house_pred_test.csv',\n",
    "    'fa19780a7b011d9b009e8bff8e99922a8ee2eb90')\n",
    "train_data = pd.read_csv(download('kaggle_house_train'))\n",
    "test_data = pd.read_csv(download('kaggle_house_test'))"
   ]
  },
  {
   "cell_type": "code",
   "execution_count": 6,
   "metadata": {},
   "outputs": [
    {
     "name": "stdout",
     "output_type": "stream",
     "text": [
      "(1460, 81) (1459, 80)\n"
     ]
    },
    {
     "data": {
      "text/html": [
       "<div>\n",
       "<style scoped>\n",
       "    .dataframe tbody tr th:only-of-type {\n",
       "        vertical-align: middle;\n",
       "    }\n",
       "\n",
       "    .dataframe tbody tr th {\n",
       "        vertical-align: top;\n",
       "    }\n",
       "\n",
       "    .dataframe thead th {\n",
       "        text-align: right;\n",
       "    }\n",
       "</style>\n",
       "<table border=\"1\" class=\"dataframe\">\n",
       "  <thead>\n",
       "    <tr style=\"text-align: right;\">\n",
       "      <th></th>\n",
       "      <th>Id</th>\n",
       "      <th>MSSubClass</th>\n",
       "      <th>MSZoning</th>\n",
       "      <th>SaleType</th>\n",
       "      <th>SaleCondition</th>\n",
       "      <th>SalePrice</th>\n",
       "    </tr>\n",
       "  </thead>\n",
       "  <tbody>\n",
       "    <tr>\n",
       "      <th>0</th>\n",
       "      <td>1</td>\n",
       "      <td>60</td>\n",
       "      <td>RL</td>\n",
       "      <td>WD</td>\n",
       "      <td>Normal</td>\n",
       "      <td>208500</td>\n",
       "    </tr>\n",
       "    <tr>\n",
       "      <th>1</th>\n",
       "      <td>2</td>\n",
       "      <td>20</td>\n",
       "      <td>RL</td>\n",
       "      <td>WD</td>\n",
       "      <td>Normal</td>\n",
       "      <td>181500</td>\n",
       "    </tr>\n",
       "    <tr>\n",
       "      <th>2</th>\n",
       "      <td>3</td>\n",
       "      <td>60</td>\n",
       "      <td>RL</td>\n",
       "      <td>WD</td>\n",
       "      <td>Normal</td>\n",
       "      <td>223500</td>\n",
       "    </tr>\n",
       "    <tr>\n",
       "      <th>3</th>\n",
       "      <td>4</td>\n",
       "      <td>70</td>\n",
       "      <td>RL</td>\n",
       "      <td>WD</td>\n",
       "      <td>Abnorml</td>\n",
       "      <td>140000</td>\n",
       "    </tr>\n",
       "    <tr>\n",
       "      <th>4</th>\n",
       "      <td>5</td>\n",
       "      <td>60</td>\n",
       "      <td>RL</td>\n",
       "      <td>WD</td>\n",
       "      <td>Normal</td>\n",
       "      <td>250000</td>\n",
       "    </tr>\n",
       "  </tbody>\n",
       "</table>\n",
       "</div>"
      ],
      "text/plain": [
       "   Id  MSSubClass MSZoning SaleType SaleCondition  SalePrice\n",
       "0   1          60       RL       WD        Normal     208500\n",
       "1   2          20       RL       WD        Normal     181500\n",
       "2   3          60       RL       WD        Normal     223500\n",
       "3   4          70       RL       WD       Abnorml     140000\n",
       "4   5          60       RL       WD        Normal     250000"
      ]
     },
     "execution_count": 6,
     "metadata": {},
     "output_type": "execute_result"
    }
   ],
   "source": [
    "print(train_data.shape, test_data.shape)\n",
    "idx = slice(0, 5)\n",
    "train_data.iloc[idx, [0,1,2,-3,-2,-1]]"
   ]
  },
  {
   "cell_type": "code",
   "execution_count": 67,
   "metadata": {},
   "outputs": [],
   "source": [
    "all_features = pd.concat((train_data.iloc[:, 1:-1], test_data.iloc[:, 1:]))"
   ]
  },
  {
   "cell_type": "code",
   "execution_count": 68,
   "metadata": {},
   "outputs": [
    {
     "data": {
      "text/html": [
       "<div>\n",
       "<style scoped>\n",
       "    .dataframe tbody tr th:only-of-type {\n",
       "        vertical-align: middle;\n",
       "    }\n",
       "\n",
       "    .dataframe tbody tr th {\n",
       "        vertical-align: top;\n",
       "    }\n",
       "\n",
       "    .dataframe thead th {\n",
       "        text-align: right;\n",
       "    }\n",
       "</style>\n",
       "<table border=\"1\" class=\"dataframe\">\n",
       "  <thead>\n",
       "    <tr style=\"text-align: right;\">\n",
       "      <th></th>\n",
       "      <th>MSSubClass</th>\n",
       "      <th>MSZoning</th>\n",
       "      <th>LotFrontage</th>\n",
       "      <th>SaleType</th>\n",
       "      <th>SaleCondition</th>\n",
       "    </tr>\n",
       "  </thead>\n",
       "  <tbody>\n",
       "    <tr>\n",
       "      <th>0</th>\n",
       "      <td>0.067320</td>\n",
       "      <td>RL</td>\n",
       "      <td>0.216038</td>\n",
       "      <td>WD</td>\n",
       "      <td>Normal</td>\n",
       "    </tr>\n",
       "    <tr>\n",
       "      <th>1</th>\n",
       "      <td>-0.873466</td>\n",
       "      <td>RL</td>\n",
       "      <td>0.664045</td>\n",
       "      <td>WD</td>\n",
       "      <td>Normal</td>\n",
       "    </tr>\n",
       "    <tr>\n",
       "      <th>2</th>\n",
       "      <td>0.067320</td>\n",
       "      <td>RL</td>\n",
       "      <td>0.305639</td>\n",
       "      <td>WD</td>\n",
       "      <td>Normal</td>\n",
       "    </tr>\n",
       "    <tr>\n",
       "      <th>3</th>\n",
       "      <td>0.302516</td>\n",
       "      <td>RL</td>\n",
       "      <td>0.066702</td>\n",
       "      <td>WD</td>\n",
       "      <td>Abnorml</td>\n",
       "    </tr>\n",
       "  </tbody>\n",
       "</table>\n",
       "</div>"
      ],
      "text/plain": [
       "   MSSubClass MSZoning  LotFrontage SaleType SaleCondition\n",
       "0    0.067320       RL     0.216038       WD        Normal\n",
       "1   -0.873466       RL     0.664045       WD        Normal\n",
       "2    0.067320       RL     0.305639       WD        Normal\n",
       "3    0.302516       RL     0.066702       WD       Abnorml"
      ]
     },
     "execution_count": 68,
     "metadata": {},
     "output_type": "execute_result"
    }
   ],
   "source": [
    "numeric_features = all_features.dtypes[all_features.dtypes != 'object'].index\n",
    "all_features[numeric_features] = all_features[numeric_features].fillna(0)\n",
    "all_features[numeric_features] = all_features[numeric_features].apply(lambda x : (x - x.mean()) / x.std())\n",
    "all_features.iloc[0:4, [0,1,2,-2,-1]]"
   ]
  },
  {
   "cell_type": "code",
   "execution_count": 70,
   "metadata": {},
   "outputs": [],
   "source": [
    "all_features = pd.get_dummies(all_features, dummy_na=True)"
   ]
  },
  {
   "cell_type": "code",
   "execution_count": 90,
   "metadata": {},
   "outputs": [
    {
     "data": {
      "text/plain": [
       "Alley_nan          0.932169\n",
       "PoolQC_nan         0.996574\n",
       "Fence_nan          0.804385\n",
       "MiscFeature_nan    0.964029\n",
       "dtype: float64"
      ]
     },
     "execution_count": 90,
     "metadata": {},
     "output_type": "execute_result"
    }
   ],
   "source": [
    "all_features.iloc[1:3, [0,1,2,3,4,5,-4,-3,-2,-1]]\n",
    "nan_index = (all_features.dtypes[all_features.dtypes.index.str.find('nan') != -1]).index\n",
    "nan_ratio = all_features[nan_index].sum() / all_features[nan_index].count()"
   ]
  },
  {
   "cell_type": "code",
   "execution_count": 212,
   "metadata": {},
   "outputs": [
    {
     "name": "stdout",
     "output_type": "stream",
     "text": [
      "(1460, 81) torch.Size([2919, 331]) torch.Size([1460, 1])\n",
      "tensor([[208500.],\n",
      "        [181500.],\n",
      "        [223500.],\n",
      "        ...,\n",
      "        [266500.],\n",
      "        [142125.],\n",
      "        [147500.]])\n"
     ]
    }
   ],
   "source": [
    "all_data = torch.tensor(all_features.values, dtype=torch.float32)\n",
    "all_label = torch.tensor( train_data['SalePrice'].values.reshape(-1, 1), dtype=torch.float32 )\n",
    "\n",
    "print(train_data.shape, all_data.shape, all_label.shape)\n",
    "print(all_label)"
   ]
  },
  {
   "cell_type": "code",
   "execution_count": 208,
   "metadata": {},
   "outputs": [
    {
     "name": "stdout",
     "output_type": "stream",
     "text": [
      "tensor([[ 0.0868,  0.0697, -0.0990,  0.1098,  0.0456,  0.0592,  0.1206, -0.0163,\n",
      "          0.1262,  0.0941, -0.0820,  0.0355,  0.0891, -0.0068, -0.1066, -0.0386,\n",
      "          0.0166, -0.0087,  0.0041, -0.0511,  0.0326,  0.0976,  0.0671, -0.0915,\n",
      "         -0.0118, -0.0797,  0.0873, -0.0331, -0.0725, -0.1953,  0.0236,  0.0285,\n",
      "         -0.0328,  0.0433,  0.1137,  0.0135, -0.0781,  0.0733,  0.0229,  0.2119,\n",
      "          0.0268,  0.0339, -0.0320,  0.0886, -0.0826,  0.0053, -0.0453, -0.1077,\n",
      "         -0.0933,  0.0160, -0.0286,  0.0731,  0.0294, -0.0008, -0.0010, -0.0331,\n",
      "         -0.0376, -0.0192,  0.0597, -0.0733,  0.1456,  0.1272,  0.0619,  0.1579,\n",
      "          0.1299, -0.0601,  0.0074,  0.0599,  0.0023, -0.1633, -0.1630,  0.0052,\n",
      "         -0.0652,  0.1650,  0.0847,  0.0415,  0.0471,  0.0506, -0.0056, -0.0507,\n",
      "          0.0125, -0.0814,  0.0328, -0.0171, -0.0063, -0.0565, -0.1157, -0.0393,\n",
      "          0.0153,  0.1577,  0.1045,  0.0832, -0.2002, -0.0207, -0.0070, -0.0138,\n",
      "          0.0395,  0.0891, -0.0604,  0.0137,  0.0394, -0.0896, -0.0887, -0.0186,\n",
      "         -0.0578,  0.0558, -0.0589, -0.0473, -0.0396,  0.0227, -0.0008, -0.0877,\n",
      "         -0.0453, -0.0462, -0.1197,  0.0182,  0.0397, -0.0344, -0.0384, -0.0447,\n",
      "         -0.1203,  0.0180, -0.0136, -0.0177,  0.0254, -0.0621, -0.0999, -0.1249,\n",
      "          0.1078, -0.0003, -0.0771, -0.0290, -0.0071, -0.0113,  0.0729, -0.0876,\n",
      "          0.0505, -0.1230, -0.1114,  0.0129,  0.0493,  0.0517,  0.1204,  0.0075,\n",
      "          0.1613,  0.0424, -0.0298, -0.0219,  0.0299,  0.0166, -0.0297,  0.0030,\n",
      "         -0.0944,  0.0464,  0.0931, -0.0985,  0.0175, -0.0800, -0.0603, -0.0441,\n",
      "         -0.0079,  0.1735,  0.0154, -0.0176, -0.0820, -0.1122,  0.0474,  0.0131,\n",
      "         -0.0853, -0.0064,  0.0709, -0.0267, -0.0336, -0.0196,  0.0343,  0.0090,\n",
      "          0.0666, -0.0304, -0.0300, -0.0282,  0.0350,  0.1713,  0.1255,  0.0974,\n",
      "          0.0103,  0.0893,  0.0703, -0.0097, -0.0029,  0.1100,  0.0231, -0.1373,\n",
      "         -0.0333, -0.0315, -0.0501,  0.0787,  0.0076,  0.0452,  0.1457, -0.0460,\n",
      "         -0.0213,  0.0815, -0.0497, -0.0259, -0.0004, -0.1685,  0.0430, -0.0254,\n",
      "         -0.0881,  0.0553,  0.0497,  0.0491,  0.0217, -0.0913, -0.2120,  0.0366,\n",
      "         -0.0526, -0.0394, -0.0294,  0.1314,  0.1271, -0.0287,  0.0646, -0.0099,\n",
      "          0.0879, -0.0102,  0.0363, -0.1462,  0.0775,  0.0279, -0.0157, -0.0410,\n",
      "          0.0541,  0.0693, -0.0179,  0.1968, -0.0395, -0.0521,  0.0477, -0.0151,\n",
      "         -0.1424, -0.0108, -0.1254,  0.0760,  0.0426, -0.1576,  0.1088, -0.1021,\n",
      "         -0.0401, -0.0173,  0.0591,  0.0274,  0.0680, -0.0182,  0.0618,  0.0878,\n",
      "         -0.0495, -0.0482, -0.0805, -0.1476,  0.1207,  0.0730, -0.0893,  0.0457,\n",
      "         -0.0253, -0.0139, -0.0056,  0.0746, -0.0795,  0.0761,  0.1055, -0.1110,\n",
      "         -0.0997, -0.0775, -0.0468,  0.1212,  0.1084,  0.0508, -0.1300,  0.0363,\n",
      "         -0.0486,  0.0806,  0.0693, -0.0573,  0.0496, -0.1281,  0.0937, -0.0978,\n",
      "         -0.1553, -0.0160,  0.0674,  0.0195, -0.0971,  0.0685,  0.0892, -0.0161,\n",
      "         -0.0135, -0.0446, -0.0223,  0.1295,  0.0654,  0.0772,  0.1196, -0.1309,\n",
      "          0.0057, -0.0719,  0.0611,  0.0371,  0.0974,  0.1209, -0.0319, -0.0267,\n",
      "          0.0018, -0.1254,  0.0356,  0.0233,  0.0430, -0.0940,  0.0814, -0.0621,\n",
      "          0.0238,  0.0242,  0.1166, -0.0011, -0.0587,  0.0030, -0.0198,  0.0144,\n",
      "          0.0849,  0.0063,  0.0495]])\n"
     ]
    }
   ],
   "source": [
    "import math\n",
    "#net = nn.Sequential(nn.Linear(all_data.shape[-1], 10), nn.ReLU(), nn.Dropout(0.5),  nn.Linear(10, 1))\n",
    "net = nn.Sequential(nn.Linear(all_data.shape[-1], 1))\n",
    "\n",
    "# 参数初始化\n",
    "def init_xavier(m):\n",
    "    if type(m) == nn.Linear:\n",
    "        nn.init.normal_(m.weight, 0, math.sqrt(2.0/(m.in_features + m.out_features)) )\n",
    "        #nn.init.xavier_normal_(m.weight)\n",
    "        nn.init.zeros_(m.bias)\n",
    "net.apply(init_xavier)\n",
    "\n",
    "print(net[0].weight.data)"
   ]
  },
  {
   "cell_type": "code",
   "execution_count": 213,
   "metadata": {},
   "outputs": [
    {
     "name": "stdout",
     "output_type": "stream",
     "text": [
      "0.167382 19987.271484 2018316032.000000\n",
      "0.166714 19963.232422 2015700864.000000\n",
      "0.167245 19997.984375 2025715456.000000\n",
      "0.167187 20016.787109 2029350016.000000\n",
      "0.167500 20031.115234 2032445568.000000\n",
      "0.167594 20062.832031 2036752896.000000\n",
      "0.167670 20054.486328 2034133120.000000\n",
      "0.167517 20085.353516 2038554496.000000\n",
      "0.167922 20104.513672 2046333952.000000\n",
      "0.167917 20123.525391 2051719808.000000\n"
     ]
    }
   ],
   "source": [
    "batch_size = 64\n",
    "t_train = train_data.shape[0]\n",
    "n_train = int(t_train * 0.8)\n",
    "n_epoch = 1000\n",
    "\n",
    "train_iter = d2l.load_array((all_data[:n_train], all_label[:n_train]), batch_size)\n",
    "test_iter = d2l.load_array((all_data[n_train:t_train], all_label[n_train:t_train]), batch_size, is_train=False)\n",
    "\n",
    "updater = torch.optim.Adam(net.parameters(), lr = 5, weight_decay=0)\n",
    "criteria = nn.MSELoss()\n",
    "criteria_l1 = nn.L1Loss()\n",
    "def log_rmse(pre, label):\n",
    "    return (torch.log(pre) - torch.log(label)).pow(2).mean().sqrt()\n",
    "\n",
    "for epoch in range(n_epoch):\n",
    "    for feature, label in train_iter:\n",
    "        y_pre = net(feature)\n",
    "        loss = criteria(y_pre, label.reshape(y_pre.shape))\n",
    "        loss.backward()\n",
    "        updater.step()\n",
    "        updater.zero_grad()\n",
    "    if epoch % 100 == 0:\n",
    "        with torch.no_grad():\n",
    "            y_pre = net(all_data[n_train:t_train])\n",
    "            loss1 = log_rmse(y_pre, all_label[n_train:t_train].reshape(y_pre.shape))\n",
    "            loss_l1 = criteria_l1(y_pre, all_label[n_train:t_train].reshape(y_pre.shape))\n",
    "            loss_l2 = criteria(y_pre, all_label[n_train:t_train].reshape(y_pre.shape))\n",
    "            print(f'{float(loss1.item()):f}', f'{float(loss_l1.item()):f}', f'{float(loss_l2.item()):f}')\n"
   ]
  },
  {
   "cell_type": "code",
   "execution_count": 158,
   "metadata": {},
   "outputs": [
    {
     "name": "stdout",
     "output_type": "stream",
     "text": [
      "tensor(2.9726)\n",
      "tensor([2.3026, 6.2146, 1.0986])\n",
      "tensor([6.9078, 3.9120, 1.0986])\n",
      "tensor([-4.6052,  2.3026,  0.0000])\n",
      "tensor([21.2076,  5.3019,  0.0000])\n"
     ]
    }
   ],
   "source": [
    "def log_rmse(pre, label):\n",
    "    return (torch.log(pre) - torch.log(label)).pow(2).mean().sqrt()\n",
    "\n",
    "pre = torch.tensor([10, 500, 3], dtype=torch.float32)\n",
    "label = torch.tensor([1000, 50, 3], dtype=torch.float32)\n",
    "\n",
    "print( log_rmse(pre, label) )\n",
    "\n",
    "print( pre.log(), label.log(), pre.log() - label.log(), (pre.log() - label.log()).pow(2) , sep=\"\\n\")"
   ]
  },
  {
   "cell_type": "code",
   "execution_count": 198,
   "metadata": {},
   "outputs": [
    {
     "data": {
      "text/plain": [
       "torch.Size([292])"
      ]
     },
     "execution_count": 198,
     "metadata": {},
     "output_type": "execute_result"
    }
   ],
   "source": [
    "all_label[n_train:t_train].shape"
   ]
  }
 ],
 "metadata": {
  "kernelspec": {
   "display_name": "base",
   "language": "python",
   "name": "python3"
  },
  "language_info": {
   "codemirror_mode": {
    "name": "ipython",
    "version": 3
   },
   "file_extension": ".py",
   "mimetype": "text/x-python",
   "name": "python",
   "nbconvert_exporter": "python",
   "pygments_lexer": "ipython3",
   "version": "3.8.5"
  },
  "orig_nbformat": 4
 },
 "nbformat": 4,
 "nbformat_minor": 2
}
