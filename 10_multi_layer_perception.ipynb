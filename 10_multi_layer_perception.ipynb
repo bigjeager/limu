{
 "cells": [
  {
   "cell_type": "code",
   "execution_count": 18,
   "metadata": {},
   "outputs": [
    {
     "name": "stdout",
     "output_type": "stream",
     "text": [
      "epoch 0 (0.4172, 2.2891356348991394) (0.4223, 2.2888841152191164)\n",
      "epoch 1 (0.47928333333333334, 2.2711361090342206) (0.4818, 2.2704803943634033)\n",
      "epoch 2 (0.48486666666666667, 2.2440789341926575) (0.4888, 2.2428484678268434)\n",
      "epoch 3 (0.4822, 2.2028356909751894) (0.4906, 2.200791025161743)\n",
      "epoch 4 (0.50495, 2.1419221639633177) (0.5135, 2.1386983394622803)\n",
      "epoch 5 (0.55045, 2.056370504697164) (0.5592, 2.0514302015304566)\n",
      "epoch 6 (0.6012, 1.9432695309321086) (0.605, 1.9360023736953735)\n",
      "epoch 7 (0.6458833333333334, 1.803937671581904) (0.6525, 1.7937395811080932)\n",
      "epoch 8 (0.6816666666666666, 1.6466139614582063) (0.6858, 1.6333268523216247)\n",
      "epoch 9 (0.7078166666666666, 1.485437693198522) (0.7123, 1.4695473074913026)\n"
     ]
    }
   ],
   "source": [
    "import torch\n",
    "import torch.nn as nn\n",
    "import torch.optim as optim\n",
    "import torch.utils.data as data\n",
    "import torchvision\n",
    "import torchvision.transforms as transforms\n",
    "import matplotlib.pyplot as plt\n",
    "\n",
    "# self-implement MLP with 2-layers\n",
    "class mlp():\n",
    "    def __init__(self, input_size, hidden_size, out_size):\n",
    "        w1 = torch.normal(0, 0.01, size=[input_size, hidden_size], requires_grad=True)\n",
    "        b1 = torch.zeros(size=[hidden_size], requires_grad=True)\n",
    "        w2 = torch.normal(0, 0.01, size=[hidden_size, out_size], requires_grad=True)\n",
    "        b2 = torch.zeros(size=[out_size], requires_grad=True)\n",
    "        self.params = [w1, b1, w2, b2]\n",
    "    \n",
    "    def relu(self, x):\n",
    "        zero = torch.zeros_like(x)\n",
    "        return torch.maximum(zero, x)\n",
    "    \n",
    "    def __call__(self, x):\n",
    "        o = self.relu(torch.matmul(x, self.params[0]) + self.params[1])\n",
    "        o = torch.matmul(o, self.params[2]) + self.params[3]\n",
    "        return o\n",
    "\n",
    "    def parameters(self):\n",
    "        return self.params\n",
    "\n",
    "# self-implement sgd\n",
    "class sgd():\n",
    "    def __init__(self, params, lr):\n",
    "        self.params = params\n",
    "        self.lr = lr\n",
    "    \n",
    "    def step(self):\n",
    "        with torch.no_grad():\n",
    "            for param in self.params:\n",
    "                param -= self.lr * param.grad\n",
    "    \n",
    "    def zero_grad(self):\n",
    "        for param in self.params:\n",
    "            param.grad.data.zero_()\n",
    "\n",
    "# self-implement nn.CrossEntropy\n",
    "class softmax_and_crossentropy():\n",
    "    # y_hat is size=[m*d] (non-softmaxed), y is size[d]\n",
    "    # - log (exp(y^) / sum(exp(y)))\n",
    "    def __call__(self, y_hat, y):\n",
    "        m = torch.max(y_hat, dim=1, keepdim=True).values\n",
    "        out = -(y_hat[list(range(len(y_hat))), y] - m.flatten()) + torch.log( torch.sum(torch.exp(y_hat-m), dim=1) )\n",
    "        return torch.mean(out)\n",
    "\n",
    "def accuracy(model, data_iter):\n",
    "    correct_cnt = 0\n",
    "    total_cnt = 0\n",
    "    total_loss = 0\n",
    "    if isinstance(model, nn.Module):\n",
    "        model.eval()\n",
    "\n",
    "    with torch.no_grad():\n",
    "        for feature, label in data_iter:\n",
    "            feature = feature.reshape(feature.shape[0], -1)\n",
    "            y_pre = model(feature)\n",
    "            loss = criteria(y_pre, label)\n",
    "\n",
    "            total_loss += loss.item() * len(y_pre)\n",
    "            correct_cnt += (y_pre.argmax(dim=1) == label).sum().item()\n",
    "            total_cnt += len(y_pre)\n",
    "    return correct_cnt / total_cnt, total_loss / total_cnt\n",
    "\n",
    "n_epochs = 10\n",
    "lr = 0.01\n",
    "batch_size = 1000\n",
    "img_size = 28*28\n",
    "hidden_size = 256\n",
    "out_size = 10\n",
    "\n",
    "model = mlp(img_size, hidden_size, out_size)\n",
    "criteria = softmax_and_crossentropy()\n",
    "optimizer = sgd(model.parameters(), lr)\n",
    "\n",
    "#model = nn.Sequential(nn.Linear(img_size, hidden_size), nn.ReLU(), nn.Linear(hidden_size, out_size))\n",
    "#def init_weights(m):\n",
    "#  if type(m) == nn.Linear:\n",
    "#      nn.init.normal_(m.weight, 0, 0.01)\n",
    "#      nn.init.zeros_(m.bias)\n",
    "#model.apply(init_weights)\n",
    "#criteria = nn.CrossEntropyLoss()\n",
    "#optimizer = optim.SGD(model.parameters(), lr)\n",
    "\n",
    "train_iter = data.DataLoader(torchvision.datasets.MNIST(root=\"./\", train=True, transform=transforms.ToTensor()), batch_size=batch_size, shuffle=True)\n",
    "test_iter = data.DataLoader(torchvision.datasets.MNIST(root=\"./\", train=False, transform=transforms.ToTensor()), batch_size=batch_size, shuffle=False)\n",
    "\n",
    "\n",
    "for n in range(n_epochs):\n",
    "    for feature, label in train_iter:\n",
    "        feature = feature.reshape(feature.shape[0], -1)\n",
    "        y_pre = model(feature)\n",
    "        loss = criteria(y_pre, label)\n",
    "        loss.backward()\n",
    "        optimizer.step()\n",
    "        optimizer.zero_grad()\n",
    "    \n",
    "    print('epoch', n, accuracy(model, train_iter), accuracy(model, test_iter))\n"
   ]
  },
  {
   "cell_type": "code",
   "execution_count": 25,
   "metadata": {},
   "outputs": [
    {
     "data": {
      "text/plain": [
       "12"
      ]
     },
     "execution_count": 25,
     "metadata": {},
     "output_type": "execute_result"
    }
   ],
   "source": [
    "torch.arange(12).numel()"
   ]
  }
 ],
 "metadata": {
  "kernelspec": {
   "display_name": "base",
   "language": "python",
   "name": "python3"
  },
  "language_info": {
   "codemirror_mode": {
    "name": "ipython",
    "version": 3
   },
   "file_extension": ".py",
   "mimetype": "text/x-python",
   "name": "python",
   "nbconvert_exporter": "python",
   "pygments_lexer": "ipython3",
   "version": "3.8.5"
  },
  "orig_nbformat": 4
 },
 "nbformat": 4,
 "nbformat_minor": 2
}
