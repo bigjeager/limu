{
 "cells": [
  {
   "cell_type": "code",
   "execution_count": 88,
   "metadata": {},
   "outputs": [],
   "source": [
    "import collections\n",
    "import re\n",
    "from d2l import torch as d2l\n",
    "\n",
    "def read_timemachine():\n",
    "    with open(d2l.download('time_machine'), 'r') as f:\n",
    "        lines = f.readlines()\n",
    "    lines = [re.sub('[^A-Za-z,.]+', ' ', line).strip().lower() for line in lines]\n",
    "    return lines"
   ]
  },
  {
   "cell_type": "code",
   "execution_count": 41,
   "metadata": {},
   "outputs": [
    {
     "data": {
      "text/plain": [
       "('the time machine by h g wells',\n",
       " 'twinkled and his usually pale face was flushed and animated the')"
      ]
     },
     "execution_count": 41,
     "metadata": {},
     "output_type": "execute_result"
    }
   ],
   "source": [
    "lines = read_timemachine()\n",
    "lines[0], lines[10]"
   ]
  },
  {
   "cell_type": "code",
   "execution_count": 48,
   "metadata": {},
   "outputs": [],
   "source": [
    "def tokenize(lines, mode='word'):\n",
    "    if mode == 'word':\n",
    "        return [line.split(' ') for line in lines]\n",
    "    else:\n",
    "        return [[ch for ch in line] for line in lines]\n",
    "\n",
    "token_word_result = tokenize(lines, mode='word')\n",
    "token_char_result = tokenize(lines, mode='char')"
   ]
  },
  {
   "cell_type": "code",
   "execution_count": 49,
   "metadata": {},
   "outputs": [
    {
     "data": {
      "text/plain": [
       "(3221, 3221)"
      ]
     },
     "execution_count": 49,
     "metadata": {},
     "output_type": "execute_result"
    }
   ],
   "source": [
    "#token_word_result[0], token_word_result[10]\n",
    "len(token_word_result), len(token_char_result)"
   ]
  },
  {
   "cell_type": "code",
   "execution_count": 93,
   "metadata": {},
   "outputs": [],
   "source": [
    "class Vocab:\n",
    "    def __init__(self, tokens=None, min_freq=0, reserved_tokens=None):\n",
    "        if len(tokens) > 0 and isinstance(tokens[0], list):\n",
    "            tokens = [token for lst in tokens for token in lst]\n",
    "        self.token_count = collections.Counter(tokens)\n",
    "        \n",
    "        self.token_freq = sorted(self.token_count.items(), key = lambda x : x[1], reverse=True)\n",
    "\n",
    "        self.all_token = ['<unk>'] + reserved_tokens if reserved_tokens is not None else ['<unk>']\n",
    "        self.all_token += [token for token, freq in self.token_freq if freq > min_freq]\n",
    "\n",
    "        self.token_to_idx, self.idx_to_token = {}, []\n",
    "        for idx, token in enumerate(self.all_token):\n",
    "            self.token_to_idx[token] = idx\n",
    "            self.idx_to_token.append(token)\n",
    "    \n",
    "    def __getitem__(self, tokens):\n",
    "        if not isinstance(tokens, (list, tuple)):\n",
    "            return self.token_to_idx.get(tokens, '<unk>')\n",
    "        return [self.token_to_idx.get(token, '<unk>') for token in tokens]\n",
    "\n",
    "    def to_token(self, indices):\n",
    "        if not isinstance(indices, (list, tuple)):\n",
    "            return self.idx_to_token[indices]\n",
    "        return [self.idx_to_token[idx] for idx in indices]        \n",
    "\n",
    "    def __len__(self):\n",
    "        return len(self.token_to_idx)\n",
    "        \n",
    "\n",
    "time_machine_vocab = Vocab(token_word_result, min_freq=0)"
   ]
  },
  {
   "cell_type": "code",
   "execution_count": 80,
   "metadata": {},
   "outputs": [
    {
     "name": "stdout",
     "output_type": "stream",
     "text": [
      "[('<unk>', 0), ('the', 1), ('i', 2), ('and', 3), ('of', 4), ('a', 5), ('to', 6), ('was', 7), ('in', 8), ('that', 9)]\n"
     ]
    },
    {
     "data": {
      "text/plain": [
       "(['the', 'time', 'machine', 'by', 'h', 'g', 'wells'],\n",
       " [1, 20, 51, 41, 2184, 2185, 401],\n",
       " ['the', 'time', 'machine', 'by', 'h', 'g', 'wells'])"
      ]
     },
     "execution_count": 80,
     "metadata": {},
     "output_type": "execute_result"
    }
   ],
   "source": [
    "import matplotlib.pyplot as plt\n",
    "import math\n",
    "#plt.hist(time_machine_vocab.token_freq )\n",
    "print(list(time_machine_vocab.token_to_idx.items())[:10])\n",
    "\n",
    "indices = time_machine_vocab[token_word_result[0]]\n",
    "token_word_result[0], indices, time_machine_vocab.to_token(indices)\n"
   ]
  },
  {
   "cell_type": "code",
   "execution_count": 115,
   "metadata": {},
   "outputs": [
    {
     "data": {
      "text/plain": [
       "(174617, 6066)"
      ]
     },
     "execution_count": 115,
     "metadata": {},
     "output_type": "execute_result"
    }
   ],
   "source": [
    "def load_time_machine(max_token=-1):\n",
    "    lines = read_timemachine()\n",
    "    token_word_result = tokenize(lines, mode='word')\n",
    "    \n",
    "    vocab = Vocab(token_word_result, min_freq=0)\n",
    "    corpus = [vocab[token] for line in lines for token in line]\n",
    "    return corpus, vocab, token_word_result\n",
    "\n",
    "corpus, vocab, token_word_result = load_time_machine()\n",
    "len(corpus), len(vocab)"
   ]
  },
  {
   "cell_type": "code",
   "execution_count": 117,
   "metadata": {},
   "outputs": [
    {
     "data": {
      "text/plain": [
       "[['the', 'time', 'machine', 'by', 'h', 'g', 'wells'],\n",
       " [''],\n",
       " [''],\n",
       " [''],\n",
       " [''],\n",
       " ['i'],\n",
       " [''],\n",
       " [''],\n",
       " ['the',\n",
       "  'time',\n",
       "  'traveller',\n",
       "  'for',\n",
       "  'so',\n",
       "  'it',\n",
       "  'will',\n",
       "  'be',\n",
       "  'convenient',\n",
       "  'to',\n",
       "  'speak',\n",
       "  'of',\n",
       "  'him'],\n",
       " ['was',\n",
       "  'expounding',\n",
       "  'a',\n",
       "  'recondite',\n",
       "  'matter',\n",
       "  'to',\n",
       "  'us',\n",
       "  'his',\n",
       "  'grey',\n",
       "  'eyes',\n",
       "  'shone',\n",
       "  'and']]"
      ]
     },
     "execution_count": 117,
     "metadata": {},
     "output_type": "execute_result"
    }
   ],
   "source": [
    "token_word_result[:10]"
   ]
  }
 ],
 "metadata": {
  "kernelspec": {
   "display_name": "base",
   "language": "python",
   "name": "python3"
  },
  "language_info": {
   "codemirror_mode": {
    "name": "ipython",
    "version": 3
   },
   "file_extension": ".py",
   "mimetype": "text/x-python",
   "name": "python",
   "nbconvert_exporter": "python",
   "pygments_lexer": "ipython3",
   "version": "3.8.5"
  },
  "orig_nbformat": 4
 },
 "nbformat": 4,
 "nbformat_minor": 2
}
