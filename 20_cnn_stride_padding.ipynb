{
 "cells": [
  {
   "cell_type": "code",
   "execution_count": 7,
   "metadata": {},
   "outputs": [],
   "source": [
    "import torch\n",
    "import torch.nn as nn\n",
    "\n",
    "def comp_conv(X, k, conv2d):\n",
    "    X = X.reshape((1,1) + X.shape)\n",
    "    y = conv2d(X)\n",
    "    print(y.shape[2:])\n",
    "\n",
    "x = torch.ones((8,8))\n",
    "k = torch.ones((3,3))"
   ]
  },
  {
   "cell_type": "code",
   "execution_count": 11,
   "metadata": {},
   "outputs": [
    {
     "name": "stdout",
     "output_type": "stream",
     "text": [
      "torch.Size([6, 6])\n",
      "None\n",
      "torch.Size([8, 8])\n",
      "None\n",
      "torch.Size([8, 10])\n",
      "None\n",
      "torch.Size([2, 4])\n",
      "None\n"
     ]
    }
   ],
   "source": [
    "# input = (n0, n1)\n",
    "# kernel = (k0, k1)\n",
    "\n",
    "# default padding = 0, stride = 1\n",
    "# output = (n0 - k0 + 1, n1 - k1 + 1)\n",
    "conv2d = nn.Conv2d(1, 1, kernel_size=3)\n",
    "print(comp_conv(x, k, conv2d))\n",
    "\n",
    "# padding = (p0,p1): p0 on l/w sides, p1 on t/b sides\n",
    "# padding = 1: ie (1, 1) which stands for 1 on l/w/t/b sides\n",
    "# stride = 1\n",
    "# output = (n0 - k0 + 2*p0 + 1, n1 - k1 + 2*p1 + 1)\n",
    "conv2d = nn.Conv2d(1, 1, kernel_size=3, padding=1)\n",
    "print(comp_conv(x, k, conv2d))\n",
    "# Output and input have the same size if kernel is (3,3) and padding is (1,1)\n",
    "\n",
    "# padding = (1,2): 1 on l/w sides, 2 on t/b sides\n",
    "# stride = 1\n",
    "# output = (n0 - k0 + 2*p0 + 1, n1 - k1 + 2*p1 + 1)\n",
    "conv2d = nn.Conv2d(1, 1, kernel_size=3, padding=(1,2))\n",
    "print(comp_conv(x, k, conv2d))\n",
    "\n",
    "# padding = (1,2): 1 on l/w sides, 2 on t/b sides\n",
    "# stride = (4,3): 4 steps on row, 3 steps on column\n",
    "# output = (ceil[(n0 - k0 + 2*p0 + s0)/s0], ceil[(n1 - k1 + 2*p1 + s1)/s1])\n",
    "conv2d = nn.Conv2d(1, 1, kernel_size=3, padding=(1,2), stride=(4, 3))\n",
    "print(comp_conv(x, k, conv2d))"
   ]
  }
 ],
 "metadata": {
  "kernelspec": {
   "display_name": "base",
   "language": "python",
   "name": "python3"
  },
  "language_info": {
   "codemirror_mode": {
    "name": "ipython",
    "version": 3
   },
   "file_extension": ".py",
   "mimetype": "text/x-python",
   "name": "python",
   "nbconvert_exporter": "python",
   "pygments_lexer": "ipython3",
   "version": "3.8.5"
  },
  "orig_nbformat": 4
 },
 "nbformat": 4,
 "nbformat_minor": 2
}
