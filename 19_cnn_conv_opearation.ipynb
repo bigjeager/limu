{
 "cells": [
  {
   "cell_type": "code",
   "execution_count": 1,
   "metadata": {},
   "outputs": [
    {
     "data": {
      "text/plain": [
       "tensor([[19., 25.],\n",
       "        [37., 43.]])"
      ]
     },
     "execution_count": 1,
     "metadata": {},
     "output_type": "execute_result"
    }
   ],
   "source": [
    "import torch\n",
    "import torch.nn as nn\n",
    "def corr2d(X, k):\n",
    "    n_w, n_h = X.shape\n",
    "    k_w, k_h = k.shape\n",
    "    ret_mat = torch.zeros((n_w - k_w + 1, n_h - k_h + 1))\n",
    "    for i in range(n_w - k_w + 1):\n",
    "        for j in range(n_h - k_h + 1):\n",
    "            ret_mat[i, j] = (X[i:i+k_w, j:j+k_h] * k).sum()\n",
    "    return ret_mat\n",
    "\n",
    "X = torch.arange(9).reshape((3,3))\n",
    "K = torch.arange(4).reshape((2,2))\n",
    "\n",
    "corr2d(X, K)"
   ]
  },
  {
   "cell_type": "code",
   "execution_count": 17,
   "metadata": {},
   "outputs": [
    {
     "name": "stdout",
     "output_type": "stream",
     "text": [
      "tensor([[1., 1., 0., 0., 0., 0., 1., 1.],\n",
      "        [1., 1., 0., 0., 0., 0., 1., 1.],\n",
      "        [1., 1., 0., 0., 0., 0., 1., 1.],\n",
      "        [1., 1., 0., 0., 0., 0., 1., 1.],\n",
      "        [1., 1., 0., 0., 0., 0., 1., 1.],\n",
      "        [1., 1., 0., 0., 0., 0., 1., 1.]]) tensor([[ 0.,  1.,  0.,  0.,  0., -1.,  0.],\n",
      "        [ 0.,  1.,  0.,  0.,  0., -1.,  0.],\n",
      "        [ 0.,  1.,  0.,  0.,  0., -1.,  0.],\n",
      "        [ 0.,  1.,  0.,  0.,  0., -1.,  0.],\n",
      "        [ 0.,  1.,  0.,  0.,  0., -1.,  0.],\n",
      "        [ 0.,  1.,  0.,  0.,  0., -1.,  0.]])\n"
     ]
    }
   ],
   "source": [
    "X = torch.ones((6, 8))\n",
    "X[:, 2:6] = 0\n",
    "k = torch.tensor([[1, -1]])\n",
    "Y = corr2d(X, k)\n",
    "print(X, Y)\n",
    "\n",
    "X = X.reshape((1,1) + X.shape)\n",
    "Y = Y.reshape((1,1) + Y.shape)"
   ]
  },
  {
   "cell_type": "code",
   "execution_count": 30,
   "metadata": {},
   "outputs": [
    {
     "name": "stdout",
     "output_type": "stream",
     "text": [
      "max_iter = 85\n",
      "tensor([[[[ 0.,  1.,  0.,  0.,  0., -1.,  0.],\n",
      "          [ 0.,  1.,  0.,  0.,  0., -1.,  0.],\n",
      "          [ 0.,  1.,  0.,  0.,  0., -1.,  0.],\n",
      "          [ 0.,  1.,  0.,  0.,  0., -1.,  0.],\n",
      "          [ 0.,  1.,  0.,  0.,  0., -1.,  0.],\n",
      "          [ 0.,  1.,  0.,  0.,  0., -1.,  0.]]]])\n",
      "tensor([[[[ 0.0000,  1.0000,  0.0000,  0.0000,  0.0000, -1.0000,  0.0000],\n",
      "          [ 0.0000,  1.0000,  0.0000,  0.0000,  0.0000, -1.0000,  0.0000],\n",
      "          [ 0.0000,  1.0000,  0.0000,  0.0000,  0.0000, -1.0000,  0.0000],\n",
      "          [ 0.0000,  1.0000,  0.0000,  0.0000,  0.0000, -1.0000,  0.0000],\n",
      "          [ 0.0000,  1.0000,  0.0000,  0.0000,  0.0000, -1.0000,  0.0000],\n",
      "          [ 0.0000,  1.0000,  0.0000,  0.0000,  0.0000, -1.0000,  0.0000]]]],\n",
      "       grad_fn=<ConvolutionBackward0>)\n",
      "Parameter containing:\n",
      "tensor([[[[ 1.0000, -1.0000]]]], requires_grad=True)\n"
     ]
    }
   ],
   "source": [
    "net = nn.Conv2d(1, 1, kernel_size=(1,2), bias=False)\n",
    "updater = torch.optim.SGD(net.parameters(), lr = 0.01)\n",
    "\n",
    "for i in range(100):\n",
    "    y_hat = net(X)\n",
    "    l = ((Y - y_hat)**2).sum()\n",
    "    l.backward()\n",
    "    updater.step()\n",
    "    updater.zero_grad()\n",
    "    if l.item() < 1e-8:\n",
    "        print(\"max_iter =\", i)\n",
    "        break\n",
    "print(Y)\n",
    "print(y_hat)\n",
    "print(net.weight)"
   ]
  }
 ],
 "metadata": {
  "kernelspec": {
   "display_name": "base",
   "language": "python",
   "name": "python3"
  },
  "language_info": {
   "codemirror_mode": {
    "name": "ipython",
    "version": 3
   },
   "file_extension": ".py",
   "mimetype": "text/x-python",
   "name": "python",
   "nbconvert_exporter": "python",
   "pygments_lexer": "ipython3",
   "version": "3.8.5"
  },
  "orig_nbformat": 4
 },
 "nbformat": 4,
 "nbformat_minor": 2
}
